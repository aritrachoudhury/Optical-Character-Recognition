{
 "cells": [
  {
   "cell_type": "markdown",
   "metadata": {},
   "source": [
    "# The Project #\n",
    "1. This is a project with minimal scaffolding. Expect to use the the discussion forums to gain insights! It’s not cheating to ask others for opinions or perspectives!\n",
    "2. Be inquisitive, try out new things.\n",
    "3. Use the previous modules for insights into how to complete the functions! You'll have to combine Pillow, OpenCV, and Pytesseract\n",
    "4. There are hints provided in Coursera, feel free to explore the hints if needed. Each hint provide progressively more details on how to solve the issue. This project is intended to be comprehensive and difficult if you do it without the hints.\n",
    "\n",
    "### The Assignment ###\n",
    "Take a [ZIP file](https://en.wikipedia.org/wiki/Zip_(file_format)) of images and process them, using a [library built into python](https://docs.python.org/3/library/zipfile.html) that you need to learn how to use. A ZIP file takes several different files and compresses them, thus saving space, into one single file. The files in the ZIP file we provide are newspaper images (like you saw in week 3). Your task is to write python code which allows one to search through the images looking for the occurrences of keywords and faces. E.g. if you search for \"pizza\" it will return a contact sheet of all of the faces which were located on the newspaper page which mentions \"pizza\". This will test your ability to learn a new ([library](https://docs.python.org/3/library/zipfile.html)), your ability to use OpenCV to detect faces, your ability to use tesseract to do optical character recognition, and your ability to use PIL to composite images together into contact sheets.\n",
    "\n",
    "Each page of the newspapers is saved as a single PNG image in a file called [images.zip](./readonly/images.zip). These newspapers are in english, and contain a variety of stories, advertisements and images. Note: This file is fairly large (~200 MB) and may take some time to work with, I would encourage you to use [small_img.zip](./readonly/small_img.zip) for testing.\n",
    "\n",
    "Here's an example of the output expected. Using the [small_img.zip](./readonly/small_img.zip) file, if I search for the string \"Christopher\" I should see the following image:\n",
    "![Christopher Search](./readonly/small_project.png)\n",
    "If I were to use the [images.zip](./readonly/images.zip) file and search for \"Mark\" I should see the following image (note that there are times when there are no faces on a page, but a word is found!):\n",
    "![Mark Search](./readonly/large_project.png)\n",
    "\n",
    "Note: That big file can take some time to process - for me it took nearly ten minutes! Use the small one for testing."
   ]
  },
  {
   "cell_type": "code",
   "execution_count": null,
   "metadata": {},
   "outputs": [],
   "source": [
    "import zipfile\n",
    "\n",
    "from PIL import Image\n",
    "import pytesseract\n",
    "import cv2 as cv\n",
    "import numpy as np\n",
    "\n",
    "# loading the face detection classifier\n",
    "face_cascade = cv.CascadeClassifier('readonly/haarcascade_frontalface_default.xml')\n"
   ]
  },
  {
   "cell_type": "code",
   "execution_count": null,
   "metadata": {},
   "outputs": [],
   "source": [
    "test_face = extract_news_info(\"readonly/images.zip\")\n",
    "\n"
   ]
  },
  {
   "cell_type": "code",
   "execution_count": null,
   "metadata": {},
   "outputs": [],
   "source": [
    "#Stores extracted information from the images in the zip file to a dictionary\n",
    "\n",
    "def extract_news_info(zip_path):\n",
    "    news_info = {}\n",
    "    with zipfile.ZipFile(zip_path) as zip_file:\n",
    "        fnames = zip_file.namelist()\n",
    "        for name in fnames:\n",
    "            with zip_file.open(name) as file:\n",
    "                # Decode cv image before opening the file using PIL to prevent returning None Type\n",
    "                cv_image = cv.imdecode(np.frombuffer(file.read(), np.uint8), 1)\n",
    "                # Get bounds of detected faces from grayscale cv image\n",
    "                gray = cv.cvtColor(cv_image, cv.COLOR_BGR2GRAY)\n",
    "                faces = face_cascade.detectMultiScale(gray, 1.3, 5)\n",
    "                \n",
    "                # Open image using PIL\n",
    "                pil_image = Image.open(file)\n",
    "                # Get text from the PIL image\n",
    "                text = pytesseract.image_to_string(pil_image)\n",
    "                \n",
    "                # Store to PIL image, text, and bounds of faces to news_info\n",
    "                news_info[name] = [pil_image, text, faces]    \n",
    "        \n",
    "    return news_info"
   ]
  },
  {
   "cell_type": "code",
   "execution_count": null,
   "metadata": {},
   "outputs": [],
   "source": [
    "def search_images(name, info):\n",
    "    keys = list(info.keys())\n",
    "    for key in keys:\n",
    "        if name in info[key][1]:  # get text info with index 1\n",
    "            image = info[key][0]  # image\n",
    "            faces = info[key][2]  # bounding boxes\n",
    "            \n",
    "            # Check for possible detected faces\n",
    "            if len(faces) > 0:\n",
    "                # Create contact sheet for each cropped face\n",
    "                contact_sheet_w = 100\n",
    "                contact_sheet_h = 100\n",
    "                rows = int(np.ceil(len(faces) / 5))\n",
    "                contact_sheet = PIL.Image.new(image.mode, (contact_sheet_w * 5, contact_sheet_h * rows))\n",
    "\n",
    "                # Crop each face using bounding box and paste each cropped image to contact sheet\n",
    "                r = 0  # row index\n",
    "                c = 0  # col index\n",
    "                for x, y, w, h in faces:\n",
    "                    crop = image.crop((x, y, x+w, y+h))\n",
    "                    if crop.width > contact_sheet_w:\n",
    "                        crop = crop.resize((100, 100))\n",
    "                        contact_sheet.paste(crop, (r, c))\n",
    "\n",
    "                    else:\n",
    "                        contact_sheet.paste(crop, (r, c))\n",
    "\n",
    "                    if crop.width + r == contact_sheet.width:\n",
    "                        r = 0\n",
    "                        c += crop.height\n",
    "\n",
    "                    else:\n",
    "                        r += contact_sheet_w\n",
    "\n",
    "                # Resize contact sheet\n",
    "                contact_sheet = contact_sheet.resize((int(contact_sheet.width), int(contact_sheet.height)))\n",
    "                # Print and display results\n",
    "                print(\"Results found in file {}\".format(key))\n",
    "                display(contact_sheet)\n",
    "        \n",
    "            # If name in the extracted text but no detect faces\n",
    "            else:\n",
    "                print(\"Results found in file {}\".format(key))\n",
    "                print(\"But there were no faces in that file!\")"
   ]
  },
  {
   "cell_type": "code",
   "execution_count": null,
   "metadata": {},
   "outputs": [],
   "source": [
    "search_images(\"Christopher\", big_test)  \n"
   ]
  }
 ],
 "metadata": {
  "anaconda-cloud": {},
  "kernelspec": {
   "display_name": "Python 3",
   "language": "python",
   "name": "python3"
  },
  "language_info": {
   "codemirror_mode": {
    "name": "ipython",
    "version": 3
   },
   "file_extension": ".py",
   "mimetype": "text/x-python",
   "name": "python",
   "nbconvert_exporter": "python",
   "pygments_lexer": "ipython3",
   "version": "3.7.1"
  }
 },
 "nbformat": 4,
 "nbformat_minor": 2
}
